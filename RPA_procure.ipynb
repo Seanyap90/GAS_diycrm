{
  "cells": [
    {
      "cell_type": "code",
      "execution_count": null,
      "metadata": {
        "id": "wdFdsmzm74Md"
      },
      "outputs": [],
      "source": [
        "# setup RPA environment by installing PHP, Chromium web browser and RPA for Python\n",
        "!apt-get update; apt install php; apt install chromium-browser; pip install rpa --upgrade\n",
        "\n",
        "# run r.setup() to download TagUI, modify to run Chromium browser and as root user\n",
        "import rpa as r; r.setup(); r.dump(r.load('/root/.tagui/src/tagui').replace('\"google-chrome\"', '\"chromium-browser\"').replace('$headless_switch', '--no-sandbox'), '/root/.tagui/src/tagui')\n",
        "\n",
        "# virtual display to run web browser normally (some websites reject headless mode)\n",
        "!apt install xvfb; pip install pyvirtualdisplay\n",
        "import pyvirtualdisplay; display = pyvirtualdisplay.Display(); display.start()"
      ]
    },
    {
      "cell_type": "code",
      "execution_count": null,
      "metadata": {
        "id": "rafdwXTm8GVx"
      },
      "outputs": [],
      "source": [
        "!pip install pandas\n",
        "!pip install flask-ngrok\n",
        "!pip install pyngrok"
      ]
    },
    {
      "cell_type": "code",
      "execution_count": null,
      "metadata": {
        "id": "UlhmLTsl9nL6"
      },
      "outputs": [],
      "source": [
        "# testing tagui rpa python package\n",
        "r.init(visual_automation = True)\n",
        "r.url('https://google.com')\n",
        "r.close()"
      ]
    },
    {
      "cell_type": "code",
      "execution_count": null,
      "metadata": {
        "id": "Btst1xCp8a5q"
      },
      "outputs": [],
      "source": [
        "# Get ngrok token\n",
        "!ngrok authtoken 22TsxoholZFmuTU6KDK8KZcqT2B_7pxTVG2aCKTQaPum5sQnQ"
      ]
    },
    {
      "cell_type": "code",
      "execution_count": null,
      "metadata": {
        "id": "GQmTHXPD9RyN"
      },
      "outputs": [],
      "source": [
        "# import libraries\n",
        "from flask_ngrok import run_with_ngrok\n",
        "from flask import Flask, request, Response\n",
        "import pandas as pd\n",
        "from time import sleep\n",
        "from rpabot_2 import extractinfo\n",
        "from rpabot_3 import extractpdf"
      ]
    },
    {
      "cell_type": "code",
      "execution_count": null,
      "metadata": {
        "id": "eCg9916D8vCh"
      },
      "outputs": [],
      "source": [
        "app = Flask(__name__)\n",
        "run_with_ngrok(app)\n",
        "\n",
        "@app.route('/check_query/', methods = ['POST'])\n",
        "def add_message():\n",
        "  req_data = request.get_json()\n",
        "  if 'userid' in req_data:\n",
        "    userid = req_data['userid']\n",
        "    print(userid)\n",
        "  if 'username' in req_data:\n",
        "    username = req_data['username']\n",
        "    print(username)\n",
        "  if 'password' in req_data:\n",
        "    password = req_data['password']\n",
        "    print(password)\n",
        "  return \"Done\"\n",
        "\n",
        "@app.route('/rpabot/', methods=['GET', 'POST'])\n",
        "def rpa():\n",
        "  req_data = request.get_json()\n",
        "  if 'userid' in req_data:\n",
        "    userid = req_data['userid']\n",
        "  if 'username' in req_data:\n",
        "    username = req_data['username']\n",
        "  if 'password' in req_data:\n",
        "    password = req_data['password']\n",
        "  df = extractinfo(userid, username, password)\n",
        "  return Response(df.to_json(orient = 'table'), mimetype='application/json')\n",
        "\n",
        "@app.route('/rpabot_pdf/', methods=['GET', 'POST'])\n",
        "def rpa_pdf():\n",
        "  req_data = request.get_json()\n",
        "  if 'userid' in req_data:\n",
        "    userid = req_data['userid']\n",
        "  if 'username' in req_data:\n",
        "    username = req_data['username']\n",
        "  if 'password' in req_data:\n",
        "    password = req_data['password']\n",
        "  if 'pdfurl' in req_data:\n",
        "    pdfurl = req_data['pdfurl']  \n",
        "  extractpdf(userid, username, password, pdfurl)\n",
        "  return \"Pdf of RFQ downloaded, please check backend\"\n",
        "\n",
        "if __name__ == '__main__':\n",
        "  app.run()"
      ]
    }
  ],
  "metadata": {
    "colab": {
      "collapsed_sections": [],
      "name": "RPA_procure.ipynb",
      "provenance": []
    },
    "kernelspec": {
      "display_name": "Python 3",
      "name": "python3"
    },
    "language_info": {
      "name": "python"
    }
  },
  "nbformat": 4,
  "nbformat_minor": 0
}